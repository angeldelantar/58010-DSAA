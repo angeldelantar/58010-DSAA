{
  "nbformat": 4,
  "nbformat_minor": 0,
  "metadata": {
    "colab": {
      "provenance": [],
      "authorship_tag": "ABX9TyPz38YJrVgnYFxC3+AbgiT4",
      "include_colab_link": true
    },
    "kernelspec": {
      "name": "python3",
      "display_name": "Python 3"
    },
    "language_info": {
      "name": "python"
    }
  },
  "cells": [
    {
      "cell_type": "markdown",
      "metadata": {
        "id": "view-in-github",
        "colab_type": "text"
      },
      "source": [
        "<a href=\"https://colab.research.google.com/github/angeldelantar/58010-DSAA/blob/main/Long_Quiz_1.ipynb\" target=\"_parent\"><img src=\"https://colab.research.google.com/assets/colab-badge.svg\" alt=\"Open In Colab\"/></a>"
      ]
    },
    {
      "cell_type": "code",
      "execution_count": 16,
      "metadata": {
        "colab": {
          "base_uri": "https://localhost:8080/"
        },
        "id": "x7uUqAiyIFQ5",
        "outputId": "cdc2388c-1cfb-419a-d3af-2c8c93cffcd2"
      },
      "outputs": [
        {
          "output_type": "stream",
          "name": "stdout",
          "text": [
            "Characters in my full name:  ['A', 'n', 'g', 'e', 'l', ' ', 'Q', 'y', 'u', 'e', 'e', 'n', ' ', 'B', '.', ' ', 'D', 'e', 'l', 'a', 'n', 't', 'a', 'r']\n",
            "Characters in Reverse order: \n",
            "r\n",
            "a\n",
            "t\n",
            "n\n",
            "a\n",
            "l\n",
            "e\n",
            "D\n",
            " \n",
            ".\n",
            "B\n",
            " \n",
            "n\n",
            "e\n",
            "e\n",
            "u\n",
            "y\n",
            "Q\n",
            " \n",
            "l\n",
            "e\n",
            "g\n",
            "n\n",
            "A\n"
          ]
        }
      ],
      "source": [
        "#1 Create a program that appends each character of your full name and displays each character in reverse\n",
        "\n",
        "myName_characters = []\n",
        "\n",
        "myName = (\"Angel Qyueen B. Delantar\")\n",
        "for char in myName:\n",
        "  myName_characters.append(char)\n",
        "print(\"Characters in my full name: \", myName_characters)\n",
        "\n",
        "\n",
        "print(\"Characters in Reverse order: \")\n",
        "for char in reversed(myName_characters):\n",
        "  print(char)\n"
      ]
    },
    {
      "cell_type": "code",
      "source": [
        "#2 Using the set of positive whole numbers from 1 to 10, create a program that displays if it is prime or composite\n",
        "\n",
        "class Node:\n",
        "    def __init__(self, data):\n",
        "        self.data = data\n",
        "        self.next = None\n",
        "\n",
        "class LinkedList:\n",
        "    def __init__(self):\n",
        "        self.head = None\n",
        "\n",
        "    def append(self, data):\n",
        "        new_node = Node(data)\n",
        "        if not self.head:\n",
        "            self.head = new_node\n",
        "        else:\n",
        "            current = self.head\n",
        "            while current.next:\n",
        "                current = current.next\n",
        "            current.next = new_node\n",
        "\n",
        "def is_prime(num):\n",
        "    if num <= 1:\n",
        "        return False\n",
        "    elif num <= 3:\n",
        "        return True\n",
        "    elif num % 2 == 0 or num % 3 == 0:\n",
        "        return False\n",
        "    i = 5\n",
        "    while i * i <= num:\n",
        "        if num % i == 0 or num % (i + 2) == 0:\n",
        "            return False\n",
        "        i += 6\n",
        "    return True\n",
        "\n",
        "def main():\n",
        "    num_list = LinkedList()\n",
        "\n",
        "    for i in range(1, 11):\n",
        "        num_list.append(i)\n",
        "\n",
        "    current = num_list.head\n",
        "    while current:\n",
        "        num = current.data\n",
        "        if is_prime(num):\n",
        "            print(f\"{num} is a PRIME\")\n",
        "        else:\n",
        "            print(f\"{num} is a COMPOSITE\")\n",
        "        current = current.next\n",
        "\n",
        "if __name__ == \"__main__\":\n",
        "    main()\n"
      ],
      "metadata": {
        "id": "93wN9-grNfF-",
        "colab": {
          "base_uri": "https://localhost:8080/"
        },
        "outputId": "45dfdd5e-a4bb-453f-d4d4-91f157b12d41"
      },
      "execution_count": 18,
      "outputs": [
        {
          "output_type": "stream",
          "name": "stdout",
          "text": [
            "1 is a COMPOSITE\n",
            "2 is a PRIME\n",
            "3 is a PRIME\n",
            "4 is a COMPOSITE\n",
            "5 is a PRIME\n",
            "6 is a COMPOSITE\n",
            "7 is a PRIME\n",
            "8 is a COMPOSITE\n",
            "9 is a COMPOSITE\n",
            "10 is a COMPOSITE\n"
          ]
        }
      ]
    }
  ]
}