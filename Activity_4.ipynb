{
  "nbformat": 4,
  "nbformat_minor": 0,
  "metadata": {
    "colab": {
      "provenance": [],
      "authorship_tag": "ABX9TyPHSpWwVMY80xKQDtYCpDd/",
      "include_colab_link": true
    },
    "kernelspec": {
      "name": "python3",
      "display_name": "Python 3"
    },
    "language_info": {
      "name": "python"
    }
  },
  "cells": [
    {
      "cell_type": "markdown",
      "metadata": {
        "id": "view-in-github",
        "colab_type": "text"
      },
      "source": [
        "<a href=\"https://colab.research.google.com/github/angeldelantar/58010-DSAA/blob/main/Activity_4.ipynb\" target=\"_parent\"><img src=\"https://colab.research.google.com/assets/colab-badge.svg\" alt=\"Open In Colab\"/></a>"
      ]
    },
    {
      "cell_type": "code",
      "execution_count": 32,
      "metadata": {
        "colab": {
          "base_uri": "https://localhost:8080/"
        },
        "id": "B2V9ciZMOmqm",
        "outputId": "c29cd1ae-022e-4048-80be-448dc1c0cff7"
      },
      "outputs": [
        {
          "output_type": "stream",
          "name": "stdout",
          "text": [
            "Even number in the list:  2\n",
            "Even number in the list:  4\n",
            "Even number in the list:  6\n",
            "Even number in the list:  8\n",
            "Even number in the list:  10\n",
            "Even number in the list:  12\n",
            "Even number in the list:  14\n",
            "Even number in the list:  16\n",
            "Even number in the list:  18\n",
            "Even number in the list:  20\n",
            "Even number in the list:  22\n",
            "Even number in the list:  24\n",
            "Even number in the list:  26\n",
            "Even number in the list:  28\n",
            "Even number in the list:  30\n",
            "Even number in the list:  32\n",
            "Even number in the list:  34\n",
            "Even number in the list:  36\n",
            "Even number in the list:  38\n",
            "Even number in the list:  40\n",
            "Even number in the list:  42\n",
            "Even number in the list:  44\n",
            "Even number in the list:  46\n",
            "Even number in the list:  48\n",
            "[2, 4, 6, 8, 10, 12, 14, 16, 18, 20, 22, 24, 26, 28, 30, 32, 34, 36, 38, 40, 42, 44, 46, 48, 0, 1, 2, 3, 4, 5, 6, 7, 8, 9, 10, 11, 12, 13, 14, 15, 16, 17, 18, 19, 20, 21, 22, 23]\n",
            "[0, 1, 2, 3, 4, 5, 6, 7, 8, 9, 10, 11, 12, 13, 14, 15, 16, 17, 18, 19, 20, 21, 22, 23]\n"
          ]
        }
      ],
      "source": [
        "#ACTIVITY 4\n",
        "\n",
        "queuelist = list(range(1,50))\n",
        "even_nose = [num for num in queuelist if num % 2 == 0]\n",
        "\n",
        "for index in range(0, len(even_nose)):\n",
        "  print(\"Even number in the list: \", even_nose[index])\n",
        "\n",
        "even_nose.append(0)\n",
        "even_nose.append(1)\n",
        "even_nose.append(2)\n",
        "even_nose.append(3)\n",
        "even_nose.append(4)\n",
        "even_nose.append(5)\n",
        "even_nose.append(6)\n",
        "even_nose.append(7)\n",
        "even_nose.append(8)\n",
        "even_nose.append(9)\n",
        "even_nose.append(10)\n",
        "even_nose.append(11)\n",
        "even_nose.append(12)\n",
        "even_nose.append(13)\n",
        "even_nose.append(14)\n",
        "even_nose.append(15)\n",
        "even_nose.append(16)\n",
        "even_nose.append(17)\n",
        "even_nose.append(18)\n",
        "even_nose.append(19)\n",
        "even_nose.append(20)\n",
        "even_nose.append(21)\n",
        "even_nose.append(22)\n",
        "even_nose.append(23)\n",
        "print(even_nose)\n",
        "\n",
        "#dequeue\n",
        "even_nose.pop(0)\n",
        "even_nose.pop(0)\n",
        "even_nose.pop(0)\n",
        "even_nose.pop(0)\n",
        "even_nose.pop(0)\n",
        "even_nose.pop(0)\n",
        "even_nose.pop(0)\n",
        "even_nose.pop(0)\n",
        "even_nose.pop(0)\n",
        "even_nose.pop(0)\n",
        "even_nose.pop(0)\n",
        "even_nose.pop(0)\n",
        "even_nose.pop(0)\n",
        "even_nose.pop(0)\n",
        "even_nose.pop(0)\n",
        "even_nose.pop(0)\n",
        "even_nose.pop(0)\n",
        "even_nose.pop(0)\n",
        "even_nose.pop(0)\n",
        "even_nose.pop(0)\n",
        "even_nose.pop(0)\n",
        "even_nose.pop(0)\n",
        "even_nose.pop(0)\n",
        "even_nose.pop(0)\n",
        "print(even_nose)\n",
        "\n",
        "\n"
      ]
    }
  ]
}