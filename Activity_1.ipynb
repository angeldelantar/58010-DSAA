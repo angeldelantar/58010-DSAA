{
  "nbformat": 4,
  "nbformat_minor": 0,
  "metadata": {
    "colab": {
      "provenance": [],
      "authorship_tag": "ABX9TyMFxk8y6DNQD1q8nu490rQi",
      "include_colab_link": true
    },
    "kernelspec": {
      "name": "python3",
      "display_name": "Python 3"
    },
    "language_info": {
      "name": "python"
    }
  },
  "cells": [
    {
      "cell_type": "markdown",
      "metadata": {
        "id": "view-in-github",
        "colab_type": "text"
      },
      "source": [
        "<a href=\"https://colab.research.google.com/github/angeldelantar/58010-DSAA/blob/main/Activity_1.ipynb\" target=\"_parent\"><img src=\"https://colab.research.google.com/assets/colab-badge.svg\" alt=\"Open In Colab\"/></a>"
      ]
    },
    {
      "cell_type": "code",
      "execution_count": 9,
      "metadata": {
        "colab": {
          "base_uri": "https://localhost:8080/"
        },
        "id": "mcJ3HrRo35Ne",
        "outputId": "165c54ea-fe82-4726-8e81-dcf453ef3eef"
      },
      "outputs": [
        {
          "output_type": "stream",
          "name": "stdout",
          "text": [
            "The array items:  [1, 2, 3, 4, 5, 6, 7, 8, 9, 10]\n",
            "What is the element in index 5?:  [1, 2, 3, 4, 5, 6, 7, 8, 9, 10]\n",
            "The sum of integers:  55\n"
          ]
        }
      ],
      "source": [
        "#1 Array of 10 integers\n",
        "\n",
        "numbers = [1,2,3,4,5,6,7,8,9,10]\n",
        "print(\"The array items: \", numbers)\n",
        "print(\"What is the element in index 5?: \", numbers)\n",
        "sum = sum(numbers)\n",
        "print(\"The sum of integers: \", sum)\n",
        "\n",
        "\n"
      ]
    },
    {
      "cell_type": "code",
      "source": [
        "#2 Appending a new Item\n",
        "\n",
        "numbers = [1,2,3,4,5,6,7,8,9,10]\n",
        "numbers.append(11)\n",
        "print(numbers)"
      ],
      "metadata": {
        "colab": {
          "base_uri": "https://localhost:8080/"
        },
        "id": "Ka94-_r64lhW",
        "outputId": "3259344f-6c8a-4c31-8a1b-3bbd344b5264"
      },
      "execution_count": 2,
      "outputs": [
        {
          "output_type": "stream",
          "name": "stdout",
          "text": [
            "[1, 2, 3, 4, 5, 6, 7, 8, 9, 10, 11]\n"
          ]
        }
      ]
    },
    {
      "cell_type": "code",
      "source": [
        "#3 Insert a new item before the second element\n",
        "\n",
        "numbers = [1,2,3,4,5,6,7,8,9,10]\n",
        "numbers.insert(1,11)\n",
        "print(numbers)"
      ],
      "metadata": {
        "colab": {
          "base_uri": "https://localhost:8080/"
        },
        "id": "UGGi2aUt5FZ4",
        "outputId": "8036e2bd-f048-4eec-e012-e3383320ee03"
      },
      "execution_count": 8,
      "outputs": [
        {
          "output_type": "stream",
          "name": "stdout",
          "text": [
            "[1, 11, 2, 3, 4, 5, 6, 7, 8, 9, 10]\n"
          ]
        }
      ]
    },
    {
      "cell_type": "code",
      "source": [
        "#4 Reverse\n",
        "\n",
        "numbers = [5,4,3,2,1]\n",
        "numbers.reverse()\n",
        "print(numbers)"
      ],
      "metadata": {
        "colab": {
          "base_uri": "https://localhost:8080/"
        },
        "id": "a7uxbTxS5RhE",
        "outputId": "a8f0a936-175c-42e3-cf74-0a747ac56407"
      },
      "execution_count": 4,
      "outputs": [
        {
          "output_type": "stream",
          "name": "stdout",
          "text": [
            "[1, 2, 3, 4, 5]\n"
          ]
        }
      ]
    },
    {
      "cell_type": "code",
      "source": [
        "#5 Getting the lenght of the Array\n",
        "\n",
        "numbers = [5,4,3,2,1]\n",
        "a = len(numbers)\n",
        "print (a)"
      ],
      "metadata": {
        "colab": {
          "base_uri": "https://localhost:8080/"
        },
        "id": "Eg_tP7-s5XA3",
        "outputId": "4a665e60-0deb-4e93-a73a-c23724f1e1d7"
      },
      "execution_count": 3,
      "outputs": [
        {
          "output_type": "stream",
          "name": "stdout",
          "text": [
            "5\n"
          ]
        }
      ]
    }
  ]
}