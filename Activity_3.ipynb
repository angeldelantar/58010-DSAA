{
  "nbformat": 4,
  "nbformat_minor": 0,
  "metadata": {
    "colab": {
      "provenance": [],
      "authorship_tag": "ABX9TyM4aIJsr8LtqBy0z04jDvk3",
      "include_colab_link": true
    },
    "kernelspec": {
      "name": "python3",
      "display_name": "Python 3"
    },
    "language_info": {
      "name": "python"
    }
  },
  "cells": [
    {
      "cell_type": "markdown",
      "metadata": {
        "id": "view-in-github",
        "colab_type": "text"
      },
      "source": [
        "<a href=\"https://colab.research.google.com/github/angeldelantar/58010-DSAA/blob/main/Activity_3.ipynb\" target=\"_parent\"><img src=\"https://colab.research.google.com/assets/colab-badge.svg\" alt=\"Open In Colab\"/></a>"
      ]
    },
    {
      "cell_type": "code",
      "source": [
        "#Revised Stack\n",
        "\n",
        "class Stack_struct:\n",
        "    def __init__(self):\n",
        "        self.items = []\n",
        "\n",
        "    def check_empty(self):\n",
        "        return self.items == []\n",
        "\n",
        "    def add_elements(self, my_data):\n",
        "        self.items.append(my_data)\n",
        "\n",
        "    def delete_elements(self):\n",
        "        return self.items.pop()\n",
        "\n",
        "#To get the length of the stack, I define the 'get_size' and used len to determine the length of the stack\n",
        "\n",
        "    def get_size(self):\n",
        "        return len(self.items)\n",
        "\n",
        "\n",
        "my_instance = Stack_struct()\n",
        "\n",
        "while True:\n",
        "    print('Please type your choice')\n",
        "    print('Push <value>')\n",
        "    print('Pop')\n",
        "    print('Size')\n",
        "    print('Quit')\n",
        "\n",
        "    my_input = input('What operation would you like to perform ? ').split()\n",
        "    my_op = my_input[0].strip().lower()\n",
        "\n",
        "    if my_op == 'push':\n",
        "        my_instance.add_elements(int(my_input[1]))\n",
        "    elif my_op == 'pop':\n",
        "        if my_instance.check_empty():\n",
        "            print('The stack is empty')\n",
        "        else:\n",
        "            print('The deleted value is : ', my_instance.delete_elements())\n",
        "    elif my_op == 'size':\n",
        "        print('The size of the stack is : ', my_instance.get_size())\n",
        "    elif my_op == 'quit':\n",
        "        break\n"
      ],
      "metadata": {
        "id": "Zjeta9MOsRUx"
      },
      "execution_count": null,
      "outputs": []
    }
  ]
}