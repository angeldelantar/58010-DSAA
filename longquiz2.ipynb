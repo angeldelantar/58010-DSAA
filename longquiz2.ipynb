{
  "nbformat": 4,
  "nbformat_minor": 0,
  "metadata": {
    "colab": {
      "provenance": [],
      "authorship_tag": "ABX9TyO/JiCJUjSjsJRal4dWiJKp",
      "include_colab_link": true
    },
    "kernelspec": {
      "name": "python3",
      "display_name": "Python 3"
    },
    "language_info": {
      "name": "python"
    }
  },
  "cells": [
    {
      "cell_type": "markdown",
      "metadata": {
        "id": "view-in-github",
        "colab_type": "text"
      },
      "source": [
        "<a href=\"https://colab.research.google.com/github/angeldelantar/58010-DSAA/blob/main/longquiz2.ipynb\" target=\"_parent\"><img src=\"https://colab.research.google.com/assets/colab-badge.svg\" alt=\"Open In Colab\"/></a>"
      ]
    },
    {
      "cell_type": "code",
      "source": [
        "class graph:\n",
        "   def __init__(self,gdict=None):\n",
        "      if gdict is None:\n",
        "         gdict = {}\n",
        "      self.gdict = gdict\n",
        "\n",
        "   def edges(self):\n",
        "      return self.findedges()\n",
        "   def findedges(self):\n",
        "      edgename = []\n",
        "      for vrtx in self.gdict:\n",
        "         for nxtvrtx in self.gdict[vrtx]:\n",
        "            if {nxtvrtx, vrtx} not in edgename:\n",
        "               edgename.append({vrtx, nxtvrtx})\n",
        "      return edgename\n",
        "graph_elements = {\n",
        "   \"e\" : [\"i\",\"j\", \"k\", \"m\"],\n",
        "   \"f\" : [\"i\", \"j\", \"k\", \"m\"],\n",
        "   \"h\" : [\"i\", \"j\", \"k\"],\n",
        "   \"i\" : [\"f\", \"h\"],\n",
        "   \"j\" : [\"e\", \"f\", \"h\"],\n",
        "   \"k\" : [\"e\", \"f,\" \"h\"],\n",
        "   \"m\" : [\"e\"],\n",
        "   \"p\" : [\"f\"],\n",
        "}\n",
        "g = graph(graph_elements)\n",
        "print(g.edges())\n",
        ""
      ],
      "metadata": {
        "id": "XpbZovXkGtQv",
        "colab": {
          "base_uri": "https://localhost:8080/"
        },
        "outputId": "3f0efeab-8468-47e6-c370-faa00acb194d"
      },
      "execution_count": 1,
      "outputs": [
        {
          "output_type": "stream",
          "name": "stdout",
          "text": [
            "[{'i', 'e'}, {'e', 'j'}, {'k', 'e'}, {'m', 'e'}, {'f', 'i'}, {'f', 'j'}, {'k', 'f'}, {'f', 'm'}, {'h', 'i'}, {'h', 'j'}, {'k', 'h'}, {'k', 'f,h'}, {'f', 'p'}]\n"
          ]
        }
      ]
    },
    {
      "cell_type": "code",
      "source": [
        "class graph:\n",
        "   def __init__(self,gdict=None):\n",
        "      if gdict is None:\n",
        "         gdict = []\n",
        "      self.gdict = gdict\n",
        "   def getVertices(self):\n",
        "      return list(self.gdict.keys())\n",
        "graph_elements = {\n",
        "   \"e\" : [\"i\",\"j\", \"k\", \"m\"],\n",
        "   \"f\" : [\"i\", \"j\", \"k\", \"m\"],\n",
        "   \"h\" : [\"i\", \"j\", \"k\"],\n",
        "   \"i\" : [\"f\", \"h\"],\n",
        "   \"j\" : [\"e\", \"f\", \"h\"],\n",
        "   \"k\" : [\"e\", \"f,\" \"h\"],\n",
        "   \"m\" : [\"e\"],\n",
        "   \"p\" : [\"f\"],\n",
        "}\n",
        "g = graph(graph_elements)\n",
        "print(g.getVertices())"
      ],
      "metadata": {
        "colab": {
          "base_uri": "https://localhost:8080/"
        },
        "id": "2yM-CrnvVSVZ",
        "outputId": "891e8f3d-867f-4d85-d857-5c5d14307db3"
      },
      "execution_count": 2,
      "outputs": [
        {
          "output_type": "stream",
          "name": "stdout",
          "text": [
            "['e', 'f', 'h', 'i', 'j', 'k', 'm', 'p']\n"
          ]
        }
      ]
    }
  ]
}