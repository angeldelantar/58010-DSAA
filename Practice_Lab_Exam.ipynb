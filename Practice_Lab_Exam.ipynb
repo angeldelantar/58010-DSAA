{
  "nbformat": 4,
  "nbformat_minor": 0,
  "metadata": {
    "colab": {
      "provenance": [],
      "authorship_tag": "ABX9TyOoflkJilPFy+Bf1Kq0jaU+",
      "include_colab_link": true
    },
    "kernelspec": {
      "name": "python3",
      "display_name": "Python 3"
    },
    "language_info": {
      "name": "python"
    }
  },
  "cells": [
    {
      "cell_type": "markdown",
      "metadata": {
        "id": "view-in-github",
        "colab_type": "text"
      },
      "source": [
        "<a href=\"https://colab.research.google.com/github/angeldelantar/58010-DSAA/blob/main/Practice_Lab_Exam.ipynb\" target=\"_parent\"><img src=\"https://colab.research.google.com/assets/colab-badge.svg\" alt=\"Open In Colab\"/></a>"
      ]
    },
    {
      "cell_type": "code",
      "execution_count": 3,
      "metadata": {
        "colab": {
          "base_uri": "https://localhost:8080/"
        },
        "id": "P_LermIX5M3j",
        "outputId": "f7727b0b-3060-4a3f-a530-d4635673befa"
      },
      "outputs": [
        {
          "output_type": "stream",
          "name": "stdout",
          "text": [
            "Enter number of test scores: 9\n",
            "Enter test score: 5\n",
            "Enter test score: 6\n",
            "Enter test score: 23\n",
            "Enter test score: 96\n",
            "Enter test score: 23\n",
            "Enter test score: 55\n",
            "Enter test score: 68\n",
            "Enter test score: 98\n",
            "Enter test score: 100\n",
            "Total score: 474.0\n"
          ]
        }
      ],
      "source": [
        "\n",
        "def input_scores():\n",
        "    num_scores = int(input(\"Enter number of test scores: \"))\n",
        "    scores = []\n",
        "    for _ in range(num_scores):\n",
        "        score = float(input(\"Enter test score: \"))\n",
        "        scores.append(score)\n",
        "    return scores\n",
        "\n",
        "def initialize_total():\n",
        "    total = 0\n",
        "    return total\n",
        "\n",
        "def calculate_total_score(scores):\n",
        "    total = initialize_total()\n",
        "    for score in scores:\n",
        "        total = add_score_total(total, score)\n",
        "    return total\n",
        "\n",
        "\n",
        "def add_score_total(total, score):\n",
        "    total += score\n",
        "    return total\n",
        "\n",
        "def main():\n",
        "    scores = input_scores()\n",
        "    total_score = calculate_total_score(scores)\n",
        "    print(\"Total score:\", total_score)\n",
        "\n",
        "main()\n"
      ]
    }
  ]
}