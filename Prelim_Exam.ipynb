{
  "nbformat": 4,
  "nbformat_minor": 0,
  "metadata": {
    "colab": {
      "provenance": [],
      "authorship_tag": "ABX9TyMbWlCnpb4JoXRk5dfB/UF/",
      "include_colab_link": true
    },
    "kernelspec": {
      "name": "python3",
      "display_name": "Python 3"
    },
    "language_info": {
      "name": "python"
    }
  },
  "cells": [
    {
      "cell_type": "markdown",
      "metadata": {
        "id": "view-in-github",
        "colab_type": "text"
      },
      "source": [
        "<a href=\"https://colab.research.google.com/github/angeldelantar/58010-DSAA/blob/main/Prelim_Exam.ipynb\" target=\"_parent\"><img src=\"https://colab.research.google.com/assets/colab-badge.svg\" alt=\"Open In Colab\"/></a>"
      ]
    },
    {
      "cell_type": "markdown",
      "source": [
        "Pinagsama ko na po sa pag print ma'am yung ascending order ng test scores pati pag add sa kanila para makuha yung total scores"
      ],
      "metadata": {
        "id": "Eb73cpL5bu9n"
      }
    },
    {
      "cell_type": "code",
      "source": [
        "#ASCENDING TEST SCORES\n",
        "#I used to sort the numbers in ascending order\n",
        "test_scores = [26, 49, 98, 87, 62, 75]\n",
        "test_scores.sort()\n",
        "print(test_scores)\n",
        "\n",
        "#ADDING THE TOTAL OF TEST SCORES\n",
        "#I used def to add the total of the test scores\n",
        "\n",
        "def initialize_total():\n",
        "    total = 0\n",
        "    return total\n",
        "\n",
        "def calculate_total_score(scores):\n",
        "    total = initialize_total()\n",
        "    for score in scores:\n",
        "        total = add_score_total(total, score)\n",
        "    return total\n",
        "\n",
        "#Here is the process to add the total of the test scores\n",
        "def add_score_total(total, score):\n",
        "    total += score\n",
        "    return total\n",
        "\n",
        "#Here is to print the Total score\n",
        "def main():\n",
        "    total_score = calculate_total_score(test_scores)\n",
        "    print(\"Total score:\", total_score)\n",
        "\n",
        "main()\n"
      ],
      "metadata": {
        "colab": {
          "base_uri": "https://localhost:8080/"
        },
        "id": "wFSk7nWbXKcl",
        "outputId": "e7c05c9a-8f71-427c-b3a6-d7315cf8990f"
      },
      "execution_count": 13,
      "outputs": [
        {
          "output_type": "stream",
          "name": "stdout",
          "text": [
            "[26, 49, 62, 75, 87, 98]\n",
            "Total score: 397\n"
          ]
        }
      ]
    }
  ]
}