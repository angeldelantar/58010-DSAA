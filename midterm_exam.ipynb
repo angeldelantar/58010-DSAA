{
  "nbformat": 4,
  "nbformat_minor": 0,
  "metadata": {
    "colab": {
      "provenance": [],
      "authorship_tag": "ABX9TyNrnmYSr2ukF89162RWm4O9",
      "include_colab_link": true
    },
    "kernelspec": {
      "name": "python3",
      "display_name": "Python 3"
    },
    "language_info": {
      "name": "python"
    }
  },
  "cells": [
    {
      "cell_type": "markdown",
      "metadata": {
        "id": "view-in-github",
        "colab_type": "text"
      },
      "source": [
        "<a href=\"https://colab.research.google.com/github/angeldelantar/58010-DSAA/blob/main/midterm_exam.ipynb\" target=\"_parent\"><img src=\"https://colab.research.google.com/assets/colab-badge.svg\" alt=\"Open In Colab\"/></a>"
      ]
    },
    {
      "cell_type": "code",
      "source": [
        "class graph:\n",
        "   def __init__(self,gdict=None):\n",
        "      if gdict is None:\n",
        "         gdict = []\n",
        "      self.gdict = gdict\n",
        "   def getVertices(self):\n",
        "      return list(self.gdict.keys())\n",
        "graph_elements = {\n",
        "   \"a\" : [\"b\"],\n",
        "   \"b\" : [\"c\", \"e\", \"f\"],\n",
        "   \"c\" : [\"d\", \"e\", \"f\", \"i\", \"m\"],\n",
        "   \"d\" : [\"k\", \"l\"],\n",
        "   \"e\" : [\"n\"],\n",
        "   \"f\" : [\"i\", \"g,\"],\n",
        "   \"g\" : [\"i\", \"j\"],\n",
        "   \"i\" : [\"k\", \"j\"],\n",
        "   \"j\" : [\"k\"],\n",
        "   \"l\" : [\"m\", \"p\"],\n",
        "   \"m\" : [\"p\", \"o\", \"n\"],\n",
        "   \"n\" : [\"o\"],\n",
        "   \"o\" : [\"p\"]\n",
        "}\n",
        "g = graph(graph_elements)\n",
        "print(g.getVertices())"
      ],
      "metadata": {
        "colab": {
          "base_uri": "https://localhost:8080/"
        },
        "id": "RsNHVG88uR90",
        "outputId": "1822923f-147e-4428-c7e1-8c96f6640255"
      },
      "execution_count": 2,
      "outputs": [
        {
          "output_type": "stream",
          "name": "stdout",
          "text": [
            "['a', 'b', 'c', 'd', 'e', 'f', 'g', 'i', 'j', 'l', 'm', 'n', 'o']\n"
          ]
        }
      ]
    },
    {
      "cell_type": "code",
      "execution_count": 1,
      "metadata": {
        "colab": {
          "base_uri": "https://localhost:8080/"
        },
        "id": "GAa65CwrbW6C",
        "outputId": "63cc916d-c50c-486a-8de2-78a2768511a4"
      },
      "outputs": [
        {
          "output_type": "stream",
          "name": "stdout",
          "text": [
            "[{'b', 'a'}, {'b', 'c'}, {'b', 'e'}, {'b', 'f'}, {'c', 'd'}, {'c', 'e'}, {'f', 'c'}, {'c', 'i'}, {'m', 'c'}, {'k', 'd'}, {'l', 'd'}, {'n', 'e'}, {'f', 'i'}, {'f', 'g,'}, {'i', 'g'}, {'j', 'g'}, {'k', 'i'}, {'j', 'i'}, {'k', 'j'}, {'m', 'l'}, {'l', 'p'}, {'m', 'p'}, {'m', 'o'}, {'m', 'n'}, {'n', 'o'}, {'o', 'p'}]\n"
          ]
        }
      ],
      "source": [
        "class graph:\n",
        "   def __init__(self,gdict=None):\n",
        "      if gdict is None:\n",
        "         gdict = {}\n",
        "      self.gdict = gdict\n",
        "\n",
        "   def edges(self):\n",
        "      return self.findedges()\n",
        "   def findedges(self):\n",
        "      edgename = []\n",
        "      for vrtx in self.gdict:\n",
        "         for nxtvrtx in self.gdict[vrtx]:\n",
        "            if {nxtvrtx, vrtx} not in edgename:\n",
        "               edgename.append({vrtx, nxtvrtx})\n",
        "      return edgename\n",
        "graph_elements = {\n",
        "   \"a\" : [\"b\"],\n",
        "   \"b\" : [\"c\", \"e\", \"f\"],\n",
        "   \"c\" : [\"d\", \"e\", \"f\", \"i\", \"m\"],\n",
        "   \"d\" : [\"k\", \"l\"],\n",
        "   \"e\" : [\"n\"],\n",
        "   \"f\" : [\"i\", \"g,\"],\n",
        "   \"g\" : [\"i\", \"j\"],\n",
        "   \"i\" : [\"k\", \"j\"],\n",
        "   \"j\" : [\"k\"],\n",
        "   \"l\" : [\"m\", \"p\"],\n",
        "   \"m\" : [\"p\", \"o\", \"n\"],\n",
        "   \"n\" : [\"o\"],\n",
        "   \"o\" : [\"p\"]\n",
        "}\n",
        "g = graph(graph_elements)\n",
        "print(g.edges())\n"
      ]
    }
  ]
}