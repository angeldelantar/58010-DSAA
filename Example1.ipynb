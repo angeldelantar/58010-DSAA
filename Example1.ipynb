{
  "nbformat": 4,
  "nbformat_minor": 0,
  "metadata": {
    "colab": {
      "provenance": []
    },
    "kernelspec": {
      "name": "python3",
      "display_name": "Python 3"
    },
    "language_info": {
      "name": "python"
    }
  },
  "cells": [
    {
      "cell_type": "code",
      "source": [
        "length = float(input(\"Enter length: \"))\n",
        "width = float(input(\"Enter width: \"))\n",
        "\n",
        "area = length * width\n",
        "\n",
        "print(\"The Area of Rectangle is: \",area)\n"
      ],
      "metadata": {
        "id": "k-NyNmVUN9ZD"
      },
      "execution_count": null,
      "outputs": []
    }
  ]
}