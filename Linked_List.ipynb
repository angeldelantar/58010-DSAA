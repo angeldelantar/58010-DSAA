{
  "nbformat": 4,
  "nbformat_minor": 0,
  "metadata": {
    "colab": {
      "provenance": [],
      "authorship_tag": "ABX9TyOZsa8awDxVxNGqJKz6OkYL",
      "include_colab_link": true
    },
    "kernelspec": {
      "name": "python3",
      "display_name": "Python 3"
    },
    "language_info": {
      "name": "python"
    }
  },
  "cells": [
    {
      "cell_type": "markdown",
      "metadata": {
        "id": "view-in-github",
        "colab_type": "text"
      },
      "source": [
        "<a href=\"https://colab.research.google.com/github/angeldelantar/58010-DSAA/blob/main/Linked_List.ipynb\" target=\"_parent\"><img src=\"https://colab.research.google.com/assets/colab-badge.svg\" alt=\"Open In Colab\"/></a>"
      ]
    },
    {
      "cell_type": "code",
      "execution_count": null,
      "metadata": {
        "colab": {
          "base_uri": "https://localhost:8080/"
        },
        "id": "0m7-qOWLmIAh",
        "outputId": "0cc58ecc-f5a4-4bc6-d139-99f23b7e1a6b"
      },
      "outputs": [
        {
          "output_type": "stream",
          "name": "stdout",
          "text": [
            "i\n",
            "f\n"
          ]
        }
      ],
      "source": [
        "#Example 1\n",
        "\n",
        "import array\n",
        "a = array.array('i', [1,2,3,4,5,6])\n",
        "b = array.array('f', [1.5,2.5,4.5,5.5,6.5])\n",
        "\n",
        "print(a.typecode)\n",
        "print(b.typecode)"
      ]
    },
    {
      "cell_type": "code",
      "source": [
        "#Example 2\n",
        "\n",
        "float_array = [1.0, 2.5, 3.7, 4.2, 5.8]\n",
        "\n",
        "print(float_array)"
      ],
      "metadata": {
        "colab": {
          "base_uri": "https://localhost:8080/"
        },
        "id": "1LUmVmK5oDYW",
        "outputId": "110f3508-38c8-431e-91b1-2d83eca9d0ab"
      },
      "execution_count": null,
      "outputs": [
        {
          "output_type": "stream",
          "name": "stdout",
          "text": [
            "[1.0, 2.5, 3.7, 4.2, 5.8]\n"
          ]
        }
      ]
    },
    {
      "cell_type": "code",
      "source": [
        "#Example 3\n",
        "#Node Class\n",
        "\n",
        "class Node:\n",
        "  #Function to initialize the node object\n",
        "  def __init__(self, data):\n",
        "    self.data = data #Assign data\n",
        "    self.next = None #Initialize\n",
        "    #Next as Null\n",
        "\n",
        "  #Linked List Class\n",
        "  class LinkedList:\n",
        "\n",
        "    #Function to initialize the Linked\n",
        "    #List Object\n",
        "    def __init__(sself):\n",
        "      self.head = None"
      ],
      "metadata": {
        "id": "N93dTGz8o4C0"
      },
      "execution_count": null,
      "outputs": []
    },
    {
      "cell_type": "code",
      "source": [
        "#Example 4\n",
        "#Node Class\n",
        "\n",
        "class Node:\n",
        "\n",
        " #Function to initialize the node object\n",
        " def __init__(self, data):\n",
        "  self.data = data #Assign data\n",
        "  self.next = None #Initialize\n",
        "   #Next as Null\n",
        "\n",
        "class LinkedList:\n",
        "  #Function to initialize the Linked\n",
        "  #List object\n",
        "  def __init__(self):\n",
        "    self.head = None\n",
        "\n",
        "  #Code execution starts here\n",
        "if __name__=='__main__':\n",
        "\n",
        "  #Start with the empty list\n",
        "  llist=LinkedList()\n",
        "\n",
        "  a = 1\n",
        "  b = 2\n",
        "  c = 3\n",
        "\n",
        "  llist.head=Node(a)\n",
        "  second=Node(b)\n",
        "  third=Node(c)\n",
        "\n",
        "  llist.head.next=second; #Link first node with second\n",
        "  second.next=third; #Link second node with the third node\n",
        "\n",
        "  current = llist.head\n",
        "  while current:\n",
        "    print(current.data, end=\" -> \")\n",
        "    current = current.next\n",
        "  print(\"None\")"
      ],
      "metadata": {
        "colab": {
          "base_uri": "https://localhost:8080/"
        },
        "id": "wWele97ysFNL",
        "outputId": "b2933ab4-e81a-4874-f962-996eb7d84528"
      },
      "execution_count": null,
      "outputs": [
        {
          "output_type": "stream",
          "name": "stdout",
          "text": [
            "1 -> 2 -> 3 -> None\n"
          ]
        }
      ]
    },
    {
      "cell_type": "code",
      "source": [
        "class Node:\n",
        "    def __init__(self, data):\n",
        "        self.data = data\n",
        "        self.next = None\n",
        "\n",
        "class LinkedList:\n",
        "    def __init__(self):\n",
        "        self.head = None\n",
        "        self.tail = None\n",
        "\n",
        "    def append(self, data):\n",
        "        new_node = Node(data)\n",
        "        if not self.head:\n",
        "            self.head = new_node\n",
        "            self.tail = new_node\n",
        "        else:\n",
        "            self.tail.next = new_node\n",
        "            self.tail = new_node\n",
        "\n",
        "def is_prime(num):\n",
        "    if num <= 1:\n",
        "        return False\n",
        "    elif num == 2:\n",
        "        return True\n",
        "    elif num % 2 == 0:\n",
        "        return False\n",
        "    else:\n",
        "        for i in range(3, int(num ** 0.5) + 1, 2):\n",
        "            if num % i == 0:\n",
        "                return False\n",
        "        return True\n",
        "\n",
        "prime_list = LinkedList()\n",
        "\n",
        "for num in range(2, 20):\n",
        "    if is_prime(num):\n",
        "        prime_list.append(num)\n",
        "\n",
        "current = prime_list.head\n",
        "print(\"Prime Numbers:\")\n",
        "while current:\n",
        "    print(current.data, end=\" \")\n",
        "    current = current.next\n",
        "\n",
        "print(\"\\nHead of the List:\", prime_list.head.data)\n",
        "print(\"Tail of the List:\", prime_list.tail.data)\n"
      ],
      "metadata": {
        "id": "6McuzUQ80BVo"
      },
      "execution_count": null,
      "outputs": []
    }
  ]
}