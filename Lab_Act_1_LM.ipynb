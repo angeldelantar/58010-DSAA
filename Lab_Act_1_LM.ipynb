{
  "nbformat": 4,
  "nbformat_minor": 0,
  "metadata": {
    "colab": {
      "provenance": [],
      "authorship_tag": "ABX9TyPUDYKVjM3+Le7ADKnbezZ8",
      "include_colab_link": true
    },
    "kernelspec": {
      "name": "python3",
      "display_name": "Python 3"
    },
    "language_info": {
      "name": "python"
    }
  },
  "cells": [
    {
      "cell_type": "markdown",
      "metadata": {
        "id": "view-in-github",
        "colab_type": "text"
      },
      "source": [
        "<a href=\"https://colab.research.google.com/github/angeldelantar/58010-DSAA/blob/main/Lab_Act_1_LM.ipynb\" target=\"_parent\"><img src=\"https://colab.research.google.com/assets/colab-badge.svg\" alt=\"Open In Colab\"/></a>"
      ]
    },
    {
      "cell_type": "code",
      "source": [
        "def calculate_final_grade(quiz, research, project, exam):\n",
        "    final_grade = 0.30 * quiz + 0.10 * research + 0.40 * exam + 0.20 * project\n",
        "    return final_grade\n",
        "\n",
        "def determine_equivalent_grade(final_grade):\n",
        "    if final_grade >= 98:\n",
        "        return 4.00\n",
        "    elif final_grade >= 95:\n",
        "        return 3.75\n",
        "    elif final_grade >= 92:\n",
        "        return 3.50\n",
        "    elif final_grade >= 89:\n",
        "        return 3.25\n",
        "    elif final_grade >= 86:\n",
        "        return 3.00\n",
        "    elif final_grade >= 83:\n",
        "        return 2.75\n",
        "    elif final_grade >= 80:\n",
        "        return 2.50\n",
        "    elif final_grade >= 77:\n",
        "        return 2.25\n",
        "    elif final_grade >= 74:\n",
        "        return 2.00\n",
        "    elif final_grade >= 71:\n",
        "        return 1.75\n",
        "    elif final_grade >= 68:\n",
        "        return 1.50\n",
        "    elif final_grade >= 64:\n",
        "        return 1.25\n",
        "    elif final_grade >= 60:\n",
        "        return 1.00\n",
        "    else:\n",
        "        return 0.00\n",
        "\n",
        "def display_student_info(name, quiz, research, project, exam):\n",
        "    final_grade = calculate_final_grade(quiz, research, project, exam)\n",
        "    equivalent_grade = determine_equivalent_grade(final_grade)\n",
        "\n",
        "    print(f\"Name: {name}\")\n",
        "    print(f\"Final Quizzes: {quiz}\")\n",
        "    print(f\"Final Research/Assignment: {research}\")\n",
        "    print(f\"Final Project: {project}\")\n",
        "    print(f\"Final Exam: {exam}\")\n",
        "    print(f\"Final Grade: {final_grade:.2f}\")\n",
        "    print(f\"Equivalent Grade: {equivalent_grade:.2f}\")\n",
        "\n",
        "name = input(\"Your Name: \")\n",
        "quiz = float(input(\"Enter your final quizzes: \"))\n",
        "research = float(input(\"Enter your final research/assignment: \"))\n",
        "project = float(input(\"Enter your final project: \"))\n",
        "exam = float(input(\"Enter your final exam: \"))\n",
        "\n",
        "display_student_info(name, quiz, research, project, exam)"
      ],
      "metadata": {
        "colab": {
          "base_uri": "https://localhost:8080/"
        },
        "id": "NJwQrJU6d4PY",
        "outputId": "ee86c5c9-e3e1-4ce9-8175-f82d9d90e9c3"
      },
      "execution_count": 40,
      "outputs": [
        {
          "output_type": "stream",
          "name": "stdout",
          "text": [
            "Your Name: angel\n",
            "Enter your final quizzes: 55\n",
            "Enter your final research/assignment: 0\n",
            "Enter your final project: 89\n",
            "Enter your final exam: 100\n",
            "Name: angel\n",
            "Final Quizzes: 55.0\n",
            "Final Research/Assignment: 0.0\n",
            "Final Project: 89.0\n",
            "Final Exam: 100.0\n",
            "Final Grade: 74.30\n",
            "Equivalent Grade: 2.00\n"
          ]
        }
      ]
    },
    {
      "cell_type": "code",
      "source": [
        "def calculate_gross_income(hours, days, weeks, rate):\n",
        "    return hours * days * weeks * rate\n",
        "\n",
        "def determine_contribution(gross_income, lower_limit, mid_limit, upper_limit, contribution):\n",
        "    if gross_income <= lower_limit:\n",
        "        return contribution[0]\n",
        "    elif lower_limit < gross_income <= mid_limit:\n",
        "        return contribution[1]\n",
        "    elif mid_limit < gross_income <= upper_limit:\n",
        "        return contribution[2]\n",
        "    else:\n",
        "        return contribution[3]\n",
        "\n",
        "def main():\n",
        "    name = input(\"Employee's Name: \")\n",
        "    department = input(\"Department: \")\n",
        "\n",
        "    hours = float(input(\"Hours per day: \"))\n",
        "    days = float(input(\"Days per week: \"))\n",
        "    weeks = float(input(\"Weeks per month: \"))\n",
        "    rate = float(input(\"Rate per hour: \"))\n",
        "\n",
        "    gross_income = calculate_gross_income(hours, days, weeks, rate)\n",
        "\n",
        "    sss_contribution = determine_contribution(gross_income, 20000, 50000, 75000, [125.75, 2200.50, 4800.00, 5800.00])\n",
        "    philhealth_contribution = determine_contribution(gross_income, 20000, 50000, 75000, [100.00, 1200.00, 6800.00, 8800.00])\n",
        "\n",
        "    total_deduction = sss_contribution + philhealth_contribution + 100.00 # Fixed Pagibig contribution\n",
        "    net_income = gross_income - total_deduction\n",
        "\n",
        "    print(\"\\nEmployee Details:\")\n",
        "    print(f\"Name: {name}\")\n",
        "    print(f\"Department: {department}\")\n",
        "\n",
        "    print(\"\\nComputed Results:\")\n",
        "    print(f\"Gross Income: {gross_income:.2f}\")\n",
        "    print(f\"SSS Contribution: {sss_contribution:.2f}\")\n",
        "    print(f\"Philhealth Contribution: {philhealth_contribution:.2f}\")\n",
        "    print(f\"PAGIBIG Contribution: 100.00\")\n",
        "\n",
        "    print(f\"\\nTotal Deduction: {total_deduction:.2f}\")\n",
        "    print(f\"Net Income: {net_income:.2f}\")\n",
        "\n",
        "if __name__ == \"__main__\":\n",
        "    main()\n"
      ],
      "metadata": {
        "colab": {
          "base_uri": "https://localhost:8080/"
        },
        "id": "OIdnSnsiX6Z2",
        "outputId": "96188d6f-c14a-4ddc-cd48-023f2cb19594"
      },
      "execution_count": 34,
      "outputs": [
        {
          "output_type": "stream",
          "name": "stdout",
          "text": [
            "Employee's Name: angel\n",
            "Department: engineering\n",
            "Hours per day: 8\n",
            "Days per week: 5\n",
            "Weeks per month: 4\n",
            "Rate per hour: 800\n",
            "\n",
            "Employee Details:\n",
            "Name: angel\n",
            "Department: engineering\n",
            "\n",
            "Computed Results:\n",
            "Gross Income: 128000.00\n",
            "SSS Contribution: 5800.00\n",
            "Philhealth Contribution: 8800.00\n",
            "PAGIBIG Contribution: 100.00\n",
            "\n",
            "Total Deduction: 14700.00\n",
            "Net Income: 113300.00\n"
          ]
        }
      ]
    }
  ]
}